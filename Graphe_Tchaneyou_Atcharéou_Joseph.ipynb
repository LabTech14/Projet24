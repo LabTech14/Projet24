{
 "cells": [
  {
   "cell_type": "markdown",
   "id": "9734ae92",
   "metadata": {},
   "source": [
    "![Variable](image/cdp0.png)"
   ]
  },
  {
   "cell_type": "raw",
   "id": "b04da48b",
   "metadata": {},
   "source": [
    "NOM      : Tchaneyou                                                                   Enseignant       : Sognon Rosine   \n",
    "PRENOMS  : Atcharéou Joseph                                                            Année Académique : 2022 - 2023\n",
    "NIVEAU   : Master 1                                                                    Matière          : Graphes\n",
    "PARCOURS : IT                                                                          Université       : COLLEGE DE PARIS"
   ]
  },
  {
   "cell_type": "markdown",
   "id": "c9951e1a",
   "metadata": {},
   "source": [
    "# <font color = green> oooooooooooooooPROJET SUR LE COURS DE GRAPHoooooooooooooo</font>"
   ]
  },
  {
   "cell_type": "markdown",
   "id": "379bdc89",
   "metadata": {},
   "source": [
    "## <font color = blue > Importation des données</font>"
   ]
  },
  {
   "cell_type": "code",
   "execution_count": 1,
   "id": "bb3d3f91",
   "metadata": {},
   "outputs": [],
   "source": [
    "import networkx as nx\n",
    "import heapq"
   ]
  },
  {
   "cell_type": "markdown",
   "id": "0d5ad395",
   "metadata": {},
   "source": [
    "## <font color = blue> 1- a) Nombre d’arcs</font>"
   ]
  },
  {
   "cell_type": "markdown",
   "id": "be4109d1",
   "metadata": {},
   "source": [
    "Cette fonction parcourt tous les sommets du graphe et compte le nombre de voisins de chaque sommet. Le nombre total d'arcs dans le graphe est alors la somme des nombres de voisins de tous les sommets.\n",
    "\n",
    "Elle retourne le nombre d'arcs dans un graphe dirigé représenté par un dictionnaire de listes d'adjacence."
   ]
  },
  {
   "cell_type": "code",
   "execution_count": 2,
   "id": "9af492ff",
   "metadata": {},
   "outputs": [
    {
     "name": "stdout",
     "output_type": "stream",
     "text": [
      "5\n"
     ]
    }
   ],
   "source": [
    "def count_arcs(graph):\n",
    "    \n",
    "    count = 0\n",
    "    for node, neighbors in graph.items():\n",
    "        count += len(neighbors)\n",
    "    return count\n",
    "\n",
    "\n",
    "graph = {\n",
    "    1: [2, 3],\n",
    "    2: [3, 4],\n",
    "    3: [4],\n",
    "    4: []\n",
    "}\n",
    "\n",
    "print(count_arcs(graph)) \n"
   ]
  },
  {
   "cell_type": "markdown",
   "id": "bcf31b9e",
   "metadata": {},
   "source": [
    "## <font color = blue> 1- b) Arêtes minimal entre 1 sommet et tous les autres</font>"
   ]
  },
  {
   "cell_type": "markdown",
   "id": "1bd10c94",
   "metadata": {},
   "source": [
    "Implémentation de l'algorithme de Dijkstra pour trouver les plus courts chemins entre un sommet de départ et tous les autres sommets d'un graphe pondéré."
   ]
  },
  {
   "cell_type": "code",
   "execution_count": 3,
   "id": "28580f21",
   "metadata": {},
   "outputs": [
    {
     "name": "stdout",
     "output_type": "stream",
     "text": [
      "{'A': 0, 'B': 1, 'C': 3, 'D': 4}\n"
     ]
    }
   ],
   "source": [
    "def dijkstra(graph, start):\n",
    "    \n",
    "    distances = {node: float('inf') for node in graph}\n",
    "    distances[start] = 0\n",
    "    queue = [(0, start)]\n",
    "    while queue:\n",
    "        (current_distance, current_node) = heapq.heappop(queue)\n",
    "        if current_distance > distances[current_node]:\n",
    "            continue\n",
    "        for neighbor, weight in graph[current_node].items():\n",
    "            distance = current_distance + weight\n",
    "            if distance < distances[neighbor]:\n",
    "                distances[neighbor] = distance\n",
    "                heapq.heappush(queue, (distance, neighbor))\n",
    "    return distances\n",
    "\n",
    "\n",
    "\n",
    "graph = {\n",
    "    'A': {'B': 1, 'C': 4},\n",
    "    'B': {'C': 2, 'D': 5},\n",
    "    'C': {'D': 1},\n",
    "    'D': {}\n",
    "}\n",
    "\n",
    "distances = dijkstra(graph, 'A')\n",
    "print(distances) # {'A': 0, 'B': 1, 'C': 3, 'D': 4}\n",
    "\n"
   ]
  },
  {
   "cell_type": "markdown",
   "id": "d01e5574",
   "metadata": {},
   "source": [
    "## <font color = blue>2 - a) Implémentation de la connexité par la méthode de parcours en profondeur (DFS)</font>"
   ]
  },
  {
   "cell_type": "markdown",
   "id": "ccb8d1db",
   "metadata": {},
   "source": [
    "La méthode de parcours en profondeur (DFS) permet de calculer la connexité du graphe. cette méthode explore le graphe en partant d'un sommet de départ, en visitant tous les sommets accessibles depuis ce sommet. Si tous les sommets du graphe peuvent être visités à partir du sommet de départ, le graphe est connexe."
   ]
  },
  {
   "cell_type": "code",
   "execution_count": 4,
   "id": "06c9bcc8",
   "metadata": {},
   "outputs": [
    {
     "name": "stdout",
     "output_type": "stream",
     "text": [
      "True\n"
     ]
    }
   ],
   "source": [
    "#connexité\n",
    "graph1 = {\n",
    "    1: [2, 4],\n",
    "    2: [1, 3, 5],\n",
    "    3: [2, 5],\n",
    "    4: [1, 5],\n",
    "    5: [2, 3, 4]\n",
    "}\n",
    "def dfs(graph1, start, visited):\n",
    "    visited.add(start)\n",
    "    for neighbor in graph1[start]:\n",
    "        if neighbor not in visited:\n",
    "            dfs(graph1, neighbor, visited)\n",
    "\n",
    "def is_connected(graph1):\n",
    "    # Utilise un ensemble pour stocker les sommets visités\n",
    "    visited = set()\n",
    "    # On commence par visiter le premier sommet du graphe\n",
    "    start = next(iter(graph1))\n",
    "    # On effectue le parcours en profondeur à partir du premier sommet\n",
    "    dfs(graph1, start, visited)\n",
    "    # Si tous les sommets ont été visités, le graphe est connexe\n",
    "    return len(visited) == len(graph1)\n",
    "\n",
    "# Exemple d'utilisation de la fonction pour calculer la connexité\n",
    "connected = is_connected(graph1)\n",
    "print(connected) # True\n"
   ]
  },
  {
   "cell_type": "markdown",
   "id": "bfd258f3",
   "metadata": {},
   "source": [
    "## <font color = blue> 2 - b) Implémentation de la fort connexité par l'algorithme de Tarjan</font>"
   ]
  },
  {
   "cell_type": "markdown",
   "id": "76230b4b",
   "metadata": {},
   "source": [
    "L'algorithme de Tarjan pour trouver les composantes fortement connexes du graphe, et vérifier si les deux sommets donnés appartiennent à la même composante fortement connexe."
   ]
  },
  {
   "cell_type": "code",
   "execution_count": 5,
   "id": "eed2172d",
   "metadata": {},
   "outputs": [
    {
     "name": "stdout",
     "output_type": "stream",
     "text": [
      "True\n",
      "True\n"
     ]
    }
   ],
   "source": [
    "#forte connexité\n",
    "def tarjan(graph):\n",
    "    index_counter = [0]\n",
    "    lowlink = {}\n",
    "    index = {}\n",
    "    stack = []\n",
    "    result = []\n",
    "\n",
    "    def strongconnect(node):\n",
    "        # On initialise l'index et le lowlink du noeud courant\n",
    "        index[node] = index_counter[0]\n",
    "        lowlink[node] = index_counter[0]\n",
    "        index_counter[0] += 1\n",
    "        # On empile le noeud courant sur la pile\n",
    "        stack.append(node)\n",
    "\n",
    "        # On parcourt tous les voisins du noeud courant\n",
    "        for neighbor in graph[node]:\n",
    "            if neighbor not in lowlink:\n",
    "                # Si le voisin n'a pas encore été visité, on effectue une visite récursive\n",
    "                strongconnect(neighbor)\n",
    "                lowlink[node] = min(lowlink[node], lowlink[neighbor])\n",
    "            elif neighbor in stack:\n",
    "                # Si le voisin a déjà été visité et qu'il est encore sur la pile, il appartient à la même composante fortement connexe que le noeud courant\n",
    "                lowlink[node] = min(lowlink[node], index[neighbor])\n",
    "\n",
    "        # Si le noeud courant est la racine de sa composante fortement connexe, on dépile les noeuds de la pile jusqu'à atteindre le noeud courant\n",
    "        if lowlink[node] == index[node]:\n",
    "            component = []\n",
    "            while True:\n",
    "                popped = stack.pop()\n",
    "                component.append(popped)\n",
    "                if popped == node:\n",
    "                    break\n",
    "            result.append(component)\n",
    "\n",
    "    # On lance l'algorithme de Tarjan pour tous les noeuds du graphe\n",
    "    for node in graph:\n",
    "        if node not in lowlink:\n",
    "            strongconnect(node)\n",
    "\n",
    "    return result\n",
    "\n",
    "def is_strongly_connected(graph, node1, node2):\n",
    "    # On utilise l'algorithme de Tarjan pour trouver les composantes fortement connexes du graphe\n",
    "    components = tarjan(graph)\n",
    "    # On cherche les composantes fortement connexes contenant les deux noeuds donnés\n",
    "    component1 = None\n",
    "    component2 = None\n",
    "    for component in components:\n",
    "        if node1 in component:\n",
    "            component1 = component\n",
    "        if node2 in component:\n",
    "            component2 = component\n",
    "        if component1 is not None and component2 is not None:\n",
    "            break\n",
    "\n",
    "    # Si les deux noeuds appartiennent à la même composante fortement connexe, le graphe est fortement connexe entre ces deux noeuds\n",
    "    return component1 == component2\n",
    "graph = {\n",
    "    1: [2, 4],\n",
    "    2: [1, 3, 5],\n",
    "    3: [2, 5],\n",
    "    4: [1, 5],\n",
    "    5: [2, 3, 4]\n",
    "}\n",
    "\n",
    "# On teste si les sommets 1 et 3 sont fortement connexes\n",
    "print(is_strongly_connected(graph, 1, 3)) \n",
    "\n",
    "# On teste si les sommets 2 et 5 sont fortement connexes\n",
    "print(is_strongly_connected(graph, 2, 5))"
   ]
  },
  {
   "cell_type": "markdown",
   "id": "6647df58",
   "metadata": {},
   "source": [
    "## <font color = blue >3 - a) Détection de cycles</font>"
   ]
  },
  {
   "cell_type": "markdown",
   "id": "3bc7ba0f",
   "metadata": {},
   "source": [
    "Ctte fonction utilise une recherche en profondeur (DFS) pour parcourir le graphe. Elle maintient un ensemble de noeuds visités, et un ensemble de noeuds présents dans la pile de récursion. Si elle trouve un voisin qui est déjà visité et qui est également dans la pile, alors elle a détecté un cycle dans le graphe."
   ]
  },
  {
   "cell_type": "code",
   "execution_count": 6,
   "id": "db58c200",
   "metadata": {},
   "outputs": [
    {
     "name": "stdout",
     "output_type": "stream",
     "text": [
      "Le graphe ne contient pas de cycle.\n"
     ]
    }
   ],
   "source": [
    "def has_cycle(graph):\n",
    "    def dfs(node, visited, stack):\n",
    "        visited.add(node)\n",
    "        stack.add(node)\n",
    "        for neighbor in graph[node]:\n",
    "            if neighbor not in visited:\n",
    "                if dfs(neighbor, visited, stack):\n",
    "                    return True\n",
    "            elif neighbor in stack:\n",
    "                return True\n",
    "        stack.remove(node)\n",
    "        return False\n",
    "\n",
    "    visited = set()\n",
    "    stack = set()\n",
    "    for node in graph:\n",
    "        if node not in visited:\n",
    "            if dfs(node, visited, stack):\n",
    "                return True\n",
    "    return False\n",
    "\n",
    "graph = {'A': ['B'],\n",
    "         'B': ['C', 'D'],\n",
    "         'C': ['E'],\n",
    "         'D': ['E'],\n",
    "         'E': []}\n",
    "\n",
    "if has_cycle(graph):\n",
    "    print(\"Le graphe contient un cycle.\")\n",
    "else:\n",
    "    print(\"Le graphe ne contient pas de cycle.\")\n"
   ]
  },
  {
   "cell_type": "markdown",
   "id": "28c5a3b5",
   "metadata": {},
   "source": [
    "## <font color = blue >3 - b) Détection de circuits</font>"
   ]
  },
  {
   "cell_type": "markdown",
   "id": "e886a75b",
   "metadata": {},
   "source": [
    "Cette fonction utilise une recherche en profondeur (DFS) pour parcourir le graphe. Elle maintient un ensemble de noeuds visités, ainsi que l'identité du parent du noeud courant. Si elle trouve un voisin qui est déjà visité mais qui n'est pas le parent du noeud courant, alors elle a détecté un circuit dans le graphe."
   ]
  },
  {
   "cell_type": "code",
   "execution_count": 7,
   "id": "9f9b09bf",
   "metadata": {},
   "outputs": [
    {
     "name": "stdout",
     "output_type": "stream",
     "text": [
      "Le graphe contient un circuit.\n"
     ]
    }
   ],
   "source": [
    "def has_cycle(graph):\n",
    "    def dfs(node, visited, parent):\n",
    "        visited.add(node)\n",
    "        for neighbor in graph[node]:\n",
    "            if neighbor not in visited:\n",
    "                if dfs(neighbor, visited, node):\n",
    "                    return True\n",
    "            elif neighbor != parent:\n",
    "                return True\n",
    "        return False\n",
    "\n",
    "    visited = set()\n",
    "    for node in graph:\n",
    "        if node not in visited:\n",
    "            if dfs(node, visited, None):\n",
    "                return True\n",
    "    return False\n",
    "\n",
    "graph = {'A': ['B', 'C'],\n",
    "         'B': ['A', 'D'],\n",
    "         'C': ['A', 'E'],\n",
    "         'D': ['B', 'E'],\n",
    "         'E': ['C', 'D', 'F'],\n",
    "         'F': ['E']}\n",
    "\n",
    "if has_cycle(graph):\n",
    "    print(\"Le graphe contient un circuit.\")\n",
    "else:\n",
    "    print(\"Le graphe ne contient pas de circuit.\")\n"
   ]
  },
  {
   "cell_type": "markdown",
   "id": "5e31f28a",
   "metadata": {},
   "source": [
    "## <font color = blue  > 4- Ordre topologique sur les sommets (numérotation des sommets)</font>"
   ]
  },
  {
   "cell_type": "markdown",
   "id": "40890b40",
   "metadata": {},
   "source": [
    "Cette fonction utilise une recherche en profondeur (DFS) pour parcourir le graphe. Elle maintient un ensemble de noeuds visités, ainsi qu'une liste d'ordre qui est remplie au fur et à mesure que les noeuds sont visités. Lorsqu'un noeud n'a plus de successeurs non visités, il est ajouté à l'ordre."
   ]
  },
  {
   "cell_type": "code",
   "execution_count": 8,
   "id": "cf108e3a",
   "metadata": {},
   "outputs": [
    {
     "name": "stdout",
     "output_type": "stream",
     "text": [
      "Ordre topologique: ['A', 'C', 'E', 'B', 'D', 'F']\n"
     ]
    }
   ],
   "source": [
    "def topological_sort(graph):\n",
    "    def dfs(node):\n",
    "        visited.add(node)\n",
    "        for neighbor in graph[node]:\n",
    "            if neighbor not in visited:\n",
    "                dfs(neighbor)\n",
    "        order.append(node)\n",
    "\n",
    "    visited = set()\n",
    "    order = []\n",
    "    for node in graph:\n",
    "        if node not in visited:\n",
    "            dfs(node)\n",
    "    order.reverse()\n",
    "    return order\n",
    "\n",
    "graph = {'A': ['B', 'C'],\n",
    "         'B': ['D'],\n",
    "         'C': ['D', 'E'],\n",
    "         'D': ['F'],\n",
    "         'E': ['F'],\n",
    "         'F': []}\n",
    "\n",
    "order = topological_sort(graph)\n",
    "print(\"Ordre topologique:\", order)\n"
   ]
  },
  {
   "cell_type": "markdown",
   "id": "a63948b7",
   "metadata": {},
   "source": [
    "## <font color = blue>5- Exploration d’un graphe (ex. sortir d’un labyrinthe)</font>"
   ]
  },
  {
   "cell_type": "markdown",
   "id": "f636aa93",
   "metadata": {},
   "source": [
    "Cette fonction utilise une pile pour parcourir le graphe. Elle commence par ajouter le sommet de départ à la pile et à l'ensemble des noeuds visités. Ensuite, elle boucle jusqu'à ce que la pile soit vide : à chaque itération, elle retire le sommet le plus récemment ajouté à la pile, et ajoute tous ses voisins non visités à la pile et à l'ensemble des noeuds visités. La fonction renvoie finalement l'ensemble des noeuds visités."
   ]
  },
  {
   "cell_type": "code",
   "execution_count": 9,
   "id": "7c514d5a",
   "metadata": {},
   "outputs": [
    {
     "name": "stdout",
     "output_type": "stream",
     "text": [
      "Noeuds visités: {'E', 'B', 'D', 'A', 'F', 'C'}\n"
     ]
    }
   ],
   "source": [
    "def dfs(graph, start):\n",
    "    visited, stack = set(), [start]\n",
    "    while stack:\n",
    "        vertex = stack.pop()\n",
    "        if vertex not in visited:\n",
    "            visited.add(vertex)\n",
    "            stack.extend(graph[vertex] - visited)\n",
    "    return visited\n",
    "\n",
    "graph = {'A': set(['B', 'C']),\n",
    "         'B': set(['D']),\n",
    "         'C': set(['D', 'E']),\n",
    "         'D': set(['F']),\n",
    "         'E': set(['F']),\n",
    "         'F': set([])}\n",
    "\n",
    "visited_nodes = dfs(graph, 'A')\n",
    "print(\"Noeuds visités:\", visited_nodes)\n"
   ]
  },
  {
   "cell_type": "markdown",
   "id": "4d648fff",
   "metadata": {},
   "source": [
    "Exploration  d'un labyrinthe représenté sous forme de graphe pour trouver un chemin du nœud de départ au nœud d'arrivée."
   ]
  },
  {
   "cell_type": "code",
   "execution_count": 10,
   "id": "adb8fe2f",
   "metadata": {},
   "outputs": [
    {
     "name": "stdout",
     "output_type": "stream",
     "text": [
      "Chemin trouvé: ['A', 'C', 'E', 'G', 'H']\n"
     ]
    }
   ],
   "source": [
    "def explore_labyrinth(graph, start_node, end_node):\n",
    " \n",
    "   \n",
    "    # Initialize a stack to keep track of the nodes to explore\n",
    "    stack = [start_node]\n",
    "    \n",
    "    # Initialize a dictionary to keep track of the visited nodes and the path leading to them\n",
    "    visited = {start_node: None}\n",
    "    \n",
    "    # Start exploring the graph\n",
    "    while stack:\n",
    "        # Get the next node to explore\n",
    "        current_node = stack.pop()\n",
    "        \n",
    "        # If we've reached the end_node, return the path leading to it\n",
    "        if current_node == end_node:\n",
    "            path = []\n",
    "            while current_node is not None:\n",
    "                path.append(current_node)\n",
    "                current_node = visited[current_node]\n",
    "            return path[::-1]\n",
    "        \n",
    "        # Add the connected nodes that haven't been visited yet to the stack and the visited dictionary\n",
    "        for neighbor in graph[current_node]:\n",
    "            if neighbor not in visited:\n",
    "                stack.append(neighbor)\n",
    "                visited[neighbor] = current_node\n",
    "    \n",
    "    # If we've explored the entire graph and haven't found the end_node, return None\n",
    "    return None\n",
    "\n",
    "\n",
    "#Définir le graphe représentant le labyrinthe\n",
    "\n",
    "labyrinth = {\n",
    "    \"A\": [\"B\", \"C\"],\n",
    "    \"B\": [\"A\", \"D\"],\n",
    "    \"C\": [\"A\", \"E\"],\n",
    "    \"D\": [\"B\", \"F\"],\n",
    "    \"E\": [\"C\", \"G\"],\n",
    "    \"F\": [\"D\", \"H\"],\n",
    "    \"G\": [\"E\", \"H\"],\n",
    "    \"H\": [\"F\", \"G\"]\n",
    "}\n",
    "\n",
    "# Trouver le chemin du noeud de départ \"A\" au noeud d'arrivée \"H\".\n",
    "path = explore_labyrinth(labyrinth, \"A\", \"H\")\n",
    "\n",
    "# Imprimez le chemin, s'il a été trouvé\n",
    "if path:\n",
    "    print(\"Chemin trouvé:\", path) \n",
    "\n",
    "else:\n",
    "    print(\"Aucun chemin trouvé\")\n",
    "\n"
   ]
  },
  {
   "cell_type": "markdown",
   "id": "c8ca18f8",
   "metadata": {},
   "source": [
    "## <font color = blue> Application </font>"
   ]
  },
  {
   "cell_type": "code",
   "execution_count": 11,
   "id": "d9bfc641",
   "metadata": {},
   "outputs": [
    {
     "name": "stdout",
     "output_type": "stream",
     "text": [
      "(6, ['A', 'B', 'E'])\n"
     ]
    }
   ],
   "source": [
    "graph = {\n",
    "    'A': {'B': 2, 'D': 5},\n",
    "    'B': {'A': 2, 'C': 3, 'E': 4},\n",
    "    'C': {'B': 3, 'F': 6},\n",
    "    'D': {'A': 5, 'E': 1},\n",
    "    'E': {'B': 4, 'D': 1, 'F': 2},\n",
    "    'F': {'C': 6, 'E': 2}\n",
    "}\n",
    "def dijkstra(graph, start, end):\n",
    "    # Initialisation des distances et des chemins\n",
    "    distances = {node: float('inf') for node in graph}\n",
    "    distances[start] = 0\n",
    "    path = {start: []}\n",
    "    \n",
    "    # Création de la file de priorité\n",
    "    pq = [(0, start)]\n",
    "    while pq:\n",
    "        # Récupération du sommet avec la distance minimale\n",
    "        (dist, node) = heapq.heappop(pq)\n",
    "        if node == end:\n",
    "            return (dist, path[node] + [node])\n",
    "        \n",
    "        # Mise à jour des distances et des chemins pour les voisins du sommet\n",
    "        for neighbor, weight in graph[node].items():\n",
    "            new_dist = dist + weight\n",
    "            if new_dist < distances[neighbor]:\n",
    "                distances[neighbor] = new_dist\n",
    "                path[neighbor] = path[node] + [node]\n",
    "                heapq.heappush(pq, (new_dist, neighbor))\n",
    "    \n",
    "    # Si on n'a pas trouvé de chemin, on retourne None\n",
    "    return None\n",
    "\n",
    "# Exemple d'utilisation de l'algorithme de Dijkstra\n",
    "shortest_path = dijkstra(graph, 'A', 'E')\n",
    "print(shortest_path) # (3, ['A', 'D', 'E'])\n"
   ]
  },
  {
   "cell_type": "code",
   "execution_count": null,
   "id": "9f8d83f6",
   "metadata": {},
   "outputs": [],
   "source": []
  }
 ],
 "metadata": {
  "kernelspec": {
   "display_name": "Python 3 (ipykernel)",
   "language": "python",
   "name": "python3"
  },
  "language_info": {
   "codemirror_mode": {
    "name": "ipython",
    "version": 3
   },
   "file_extension": ".py",
   "mimetype": "text/x-python",
   "name": "python",
   "nbconvert_exporter": "python",
   "pygments_lexer": "ipython3",
   "version": "3.9.12"
  }
 },
 "nbformat": 4,
 "nbformat_minor": 5
}
