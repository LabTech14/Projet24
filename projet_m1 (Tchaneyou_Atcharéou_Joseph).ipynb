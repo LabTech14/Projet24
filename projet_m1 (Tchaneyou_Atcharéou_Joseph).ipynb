{
 "cells": [
  {
   "cell_type": "markdown",
   "metadata": {
    "id": "KSRsXjts2ULp"
   },
   "source": [
    "# PROJET PYTHON\n",
    "\n",
    "1.   Code Python\n",
    "2.   Pandas et Numpy\n",
    "\n"
   ]
  },
  {
   "cell_type": "markdown",
   "metadata": {
    "id": "2yufhBd6PhcT"
   },
   "source": [
    "# Partie I"
   ]
  },
  {
   "cell_type": "markdown",
   "metadata": {
    "id": "kCu8uBtDQaU4"
   },
   "source": [
    "EXERCICE 1\n",
    "\n",
    "Une suite de Fibonacci est la suite entière de 0, 1, 1, 2, 3, 5, 8....\n",
    "\n",
    "Les deux premiers termes sont 0 et 1. Tous les autres termes sont obtenus en ajoutant les deux termes précédents. Cela signifie que le nième terme est la somme de (n-1)ième et (n-2)ème terme.\n",
    "\n",
    "1.  Implémentez la suite en utilisant la boucle while\n",
    "2.  Implémentez la suite en utilisant la fonction récursive\n",
    "\n",
    "EXERCICE 2\n",
    "\n",
    "Écrivez un programme Python pour compter le nombre de caractères (fréquence des caractères) dans une chaîne.\n",
    "\n",
    "Exemple de chaîne : 'chilli' Résultat attendu : {'c': 1, 'h':1, 'i': 2, 'l': 2}"
   ]
  },
  {
   "cell_type": "markdown",
   "metadata": {},
   "source": [
    "# Résolution"
   ]
  },
  {
   "cell_type": "markdown",
   "metadata": {},
   "source": [
    "### EXERCICE 1"
   ]
  },
  {
   "cell_type": "markdown",
   "metadata": {},
   "source": [
    "  1. La suite de Fibonacci en utilisant la boucle while"
   ]
  },
  {
   "cell_type": "code",
   "execution_count": 1,
   "metadata": {},
   "outputs": [
    {
     "name": "stdout",
     "output_type": "stream",
     "text": [
      "Entrez le nombre de termes de la suite de Fibonacci à afficher : 10\n",
      "0 1 1 2 3 5 8 13 21 34 "
     ]
    }
   ],
   "source": [
    "n = int(input(\"Entrez le nombre de termes de la suite de Fibonacci à afficher : \"))\n",
    "\n",
    "# initialisation des deux premiers termes\n",
    "a, b = 0, 1\n",
    "\n",
    "# affichage des n premiers termes\n",
    "i = 0\n",
    "while i < n:\n",
    "    print(a, end=' ')\n",
    "    a, b = b, a+b\n",
    "    i += 1"
   ]
  },
  {
   "cell_type": "markdown",
   "metadata": {},
   "source": [
    " 2. La suite de Fibonacci en utilisant la fonction récursive"
   ]
  },
  {
   "cell_type": "code",
   "execution_count": 2,
   "metadata": {},
   "outputs": [
    {
     "name": "stdout",
     "output_type": "stream",
     "text": [
      "Entrez le nombre de termes de la suite de Fibonacci à afficher : 10\n",
      "0\n",
      "1\n",
      "1\n",
      "2\n",
      "3\n",
      "5\n",
      "8\n",
      "13\n",
      "21\n",
      "34\n"
     ]
    }
   ],
   "source": [
    "def fibonacci_recursive(n):\n",
    "    if n <= 1:\n",
    "        return n\n",
    "    else:\n",
    "        return fibonacci_recursive(n-1) + fibonacci_recursive(n-2)\n",
    "    \n",
    "n = int(input(\"Entrez le nombre de termes de la suite de Fibonacci à afficher : \"))\n",
    "\n",
    "for i in range(n):\n",
    "    a=print(fibonacci_recursive(i))"
   ]
  },
  {
   "cell_type": "markdown",
   "metadata": {},
   "source": [
    "### EXERCICE 2"
   ]
  },
  {
   "cell_type": "markdown",
   "metadata": {},
   "source": [
    "Programme Python pour compter le nombre de caractères (fréquence des caractères) dans une chaîne."
   ]
  },
  {
   "cell_type": "code",
   "execution_count": 3,
   "metadata": {},
   "outputs": [
    {
     "name": "stdout",
     "output_type": "stream",
     "text": [
      "{'c': 1, 'h': 1, 'i': 2, 'l': 2}\n"
     ]
    }
   ],
   "source": [
    "def count_characters(chaine):\n",
    "    # Créer un dictionnaire vide pour stocker le nombre d'occurrences de chaque caractère\n",
    "    char_freq = {}\n",
    "    \n",
    "    # Parcourir chaque caractère de la chaîne\n",
    "    for char in chaine:\n",
    "        # Vérifier si le caractère est déjà présent dans le dictionnaire\n",
    "        if char in char_freq:\n",
    "            # Si oui, incrémenter le compteur de ce caractère\n",
    "            char_freq[char] += 1\n",
    "        else:\n",
    "            # Sinon, ajouter le caractère au dictionnaire avec un compteur initialisé à 1\n",
    "            char_freq[char] = 1\n",
    "            \n",
    "    # Retourner le dictionnaire contenant le nombre d'occurrences de chaque caractère\n",
    "    return char_freq\n",
    "\n",
    "# Exemple d'utilisation\n",
    "chaine =  \"chilli\"\n",
    "result = count_characters(chaine)\n",
    "print(result)"
   ]
  },
  {
   "cell_type": "markdown",
   "metadata": {
    "id": "wcI2IvHrPo6l"
   },
   "source": [
    "# PARTIE II"
   ]
  },
  {
   "cell_type": "markdown",
   "metadata": {
    "id": "bH-sb3Od2ULv"
   },
   "source": [
    "\n",
    "### Step 1. Importation des librairies nécéssaire"
   ]
  },
  {
   "cell_type": "code",
   "execution_count": 4,
   "metadata": {
    "id": "8ERErs7P2ULw"
   },
   "outputs": [],
   "source": [
    "# importer la librairie pandas avec pd pour alias\n",
    "# importer la librairie Numpy avec np pour alias\n",
    "# Importation ici\n",
    "import pandas as pd\n",
    "import numpy as np"
   ]
  },
  {
   "cell_type": "markdown",
   "metadata": {
    "id": "O9kBkSM_2ULy"
   },
   "source": [
    "\n",
    "### Step 2. Importer le jeu de donnée restaurant.csv"
   ]
  },
  {
   "cell_type": "code",
   "execution_count": 5,
   "metadata": {
    "id": "rEOibXqt8UJ5"
   },
   "outputs": [],
   "source": [
    "restau = pd.read_csv(\"restaurant.csv\",index_col=0) # ici le code"
   ]
  },
  {
   "cell_type": "markdown",
   "metadata": {
    "id": "gUafL2aR2ULz"
   },
   "source": [
    "### Step 3. Affichage de donnée\n",
    "\n",
    "Assurez vous d'avoir bien importer le fichier en affichant les 10 premières lignes"
   ]
  },
  {
   "cell_type": "code",
   "execution_count": 6,
   "metadata": {
    "id": "uQZwvptV2UL0",
    "outputId": "327e36f3-f21c-4ec4-af04-ad598d4eeb22",
    "scrolled": false
   },
   "outputs": [
    {
     "data": {
      "text/html": [
       "<div>\n",
       "<style scoped>\n",
       "    .dataframe tbody tr th:only-of-type {\n",
       "        vertical-align: middle;\n",
       "    }\n",
       "\n",
       "    .dataframe tbody tr th {\n",
       "        vertical-align: top;\n",
       "    }\n",
       "\n",
       "    .dataframe thead th {\n",
       "        text-align: right;\n",
       "    }\n",
       "</style>\n",
       "<table border=\"1\" class=\"dataframe\">\n",
       "  <thead>\n",
       "    <tr style=\"text-align: right;\">\n",
       "      <th></th>\n",
       "      <th>order_id</th>\n",
       "      <th>quantity</th>\n",
       "      <th>item_name</th>\n",
       "      <th>choice_description</th>\n",
       "      <th>item_price</th>\n",
       "    </tr>\n",
       "  </thead>\n",
       "  <tbody>\n",
       "    <tr>\n",
       "      <th>0</th>\n",
       "      <td>1</td>\n",
       "      <td>1</td>\n",
       "      <td>Chips and Fresh Tomato Salsa</td>\n",
       "      <td>NaN</td>\n",
       "      <td>$2.39</td>\n",
       "    </tr>\n",
       "    <tr>\n",
       "      <th>1</th>\n",
       "      <td>1</td>\n",
       "      <td>1</td>\n",
       "      <td>Izze</td>\n",
       "      <td>[Clementine]</td>\n",
       "      <td>$3.39</td>\n",
       "    </tr>\n",
       "    <tr>\n",
       "      <th>2</th>\n",
       "      <td>1</td>\n",
       "      <td>1</td>\n",
       "      <td>Nantucket Nectar</td>\n",
       "      <td>[Apple]</td>\n",
       "      <td>$3.39</td>\n",
       "    </tr>\n",
       "    <tr>\n",
       "      <th>3</th>\n",
       "      <td>1</td>\n",
       "      <td>1</td>\n",
       "      <td>Chips and Tomatillo-Green Chili Salsa</td>\n",
       "      <td>NaN</td>\n",
       "      <td>$2.39</td>\n",
       "    </tr>\n",
       "    <tr>\n",
       "      <th>4</th>\n",
       "      <td>2</td>\n",
       "      <td>2</td>\n",
       "      <td>Chicken Bowl</td>\n",
       "      <td>[Tomatillo-Red Chili Salsa (Hot), [Black Beans...</td>\n",
       "      <td>$16.98</td>\n",
       "    </tr>\n",
       "    <tr>\n",
       "      <th>5</th>\n",
       "      <td>3</td>\n",
       "      <td>1</td>\n",
       "      <td>Chicken Bowl</td>\n",
       "      <td>[Fresh Tomato Salsa (Mild), [Rice, Cheese, Sou...</td>\n",
       "      <td>$10.98</td>\n",
       "    </tr>\n",
       "    <tr>\n",
       "      <th>6</th>\n",
       "      <td>3</td>\n",
       "      <td>1</td>\n",
       "      <td>Side of Chips</td>\n",
       "      <td>NaN</td>\n",
       "      <td>$1.69</td>\n",
       "    </tr>\n",
       "    <tr>\n",
       "      <th>7</th>\n",
       "      <td>4</td>\n",
       "      <td>1</td>\n",
       "      <td>Steak Burrito</td>\n",
       "      <td>[Tomatillo Red Chili Salsa, [Fajita Vegetables...</td>\n",
       "      <td>$11.75</td>\n",
       "    </tr>\n",
       "    <tr>\n",
       "      <th>8</th>\n",
       "      <td>4</td>\n",
       "      <td>1</td>\n",
       "      <td>Steak Soft Tacos</td>\n",
       "      <td>[Tomatillo Green Chili Salsa, [Pinto Beans, Ch...</td>\n",
       "      <td>$9.25</td>\n",
       "    </tr>\n",
       "    <tr>\n",
       "      <th>9</th>\n",
       "      <td>5</td>\n",
       "      <td>1</td>\n",
       "      <td>Steak Burrito</td>\n",
       "      <td>[Fresh Tomato Salsa, [Rice, Black Beans, Pinto...</td>\n",
       "      <td>$9.25</td>\n",
       "    </tr>\n",
       "  </tbody>\n",
       "</table>\n",
       "</div>"
      ],
      "text/plain": [
       "   order_id  quantity                              item_name  \\\n",
       "0         1         1           Chips and Fresh Tomato Salsa   \n",
       "1         1         1                                   Izze   \n",
       "2         1         1                       Nantucket Nectar   \n",
       "3         1         1  Chips and Tomatillo-Green Chili Salsa   \n",
       "4         2         2                           Chicken Bowl   \n",
       "5         3         1                           Chicken Bowl   \n",
       "6         3         1                          Side of Chips   \n",
       "7         4         1                          Steak Burrito   \n",
       "8         4         1                       Steak Soft Tacos   \n",
       "9         5         1                          Steak Burrito   \n",
       "\n",
       "                                  choice_description item_price  \n",
       "0                                                NaN     $2.39   \n",
       "1                                       [Clementine]     $3.39   \n",
       "2                                            [Apple]     $3.39   \n",
       "3                                                NaN     $2.39   \n",
       "4  [Tomatillo-Red Chili Salsa (Hot), [Black Beans...    $16.98   \n",
       "5  [Fresh Tomato Salsa (Mild), [Rice, Cheese, Sou...    $10.98   \n",
       "6                                                NaN     $1.69   \n",
       "7  [Tomatillo Red Chili Salsa, [Fajita Vegetables...    $11.75   \n",
       "8  [Tomatillo Green Chili Salsa, [Pinto Beans, Ch...     $9.25   \n",
       "9  [Fresh Tomato Salsa, [Rice, Black Beans, Pinto...     $9.25   "
      ]
     },
     "execution_count": 6,
     "metadata": {},
     "output_type": "execute_result"
    }
   ],
   "source": [
    "# Affichez les 10 premières lignes\n",
    "# CODE ICI\n",
    "restau.head(10)"
   ]
  },
  {
   "cell_type": "markdown",
   "metadata": {
    "id": "-pTZX9l62UL1"
   },
   "source": [
    "### Step 4. Affichez les informations des données importées?"
   ]
  },
  {
   "cell_type": "code",
   "execution_count": 7,
   "metadata": {
    "id": "FKOoFHOp2UL3",
    "outputId": "65bbfed0-1fc7-4b0c-abfa-8d17b57e84a6"
   },
   "outputs": [
    {
     "name": "stdout",
     "output_type": "stream",
     "text": [
      "<class 'pandas.core.frame.DataFrame'>\n",
      "Int64Index: 4622 entries, 0 to 4621\n",
      "Data columns (total 5 columns):\n",
      " #   Column              Non-Null Count  Dtype \n",
      "---  ------              --------------  ----- \n",
      " 0   order_id            4622 non-null   int64 \n",
      " 1   quantity            4622 non-null   int64 \n",
      " 2   item_name           4622 non-null   object\n",
      " 3   choice_description  3376 non-null   object\n",
      " 4   item_price          4622 non-null   object\n",
      "dtypes: int64(2), object(3)\n",
      "memory usage: 216.7+ KB\n"
     ]
    }
   ],
   "source": [
    "# 1) Affichez les informations du fichier importé (nombre de lignes, de colonnes, nombre de lignes pour chaque colonne)\n",
    "# CODE ICI !!\n",
    "restau.info()"
   ]
  },
  {
   "cell_type": "code",
   "execution_count": 8,
   "metadata": {
    "colab": {
     "base_uri": "https://localhost:8080/"
    },
    "id": "JpyzCPdk2UL4",
    "outputId": "935bcd81-19de-44b6-c1c4-954ea446606f"
   },
   "outputs": [
    {
     "data": {
      "text/plain": [
       "5"
      ]
     },
     "execution_count": 8,
     "metadata": {},
     "output_type": "execute_result"
    }
   ],
   "source": [
    "# 2) Affichez le nombre de colonnes\n",
    "# CODE ICI\n",
    "restau.shape[1]"
   ]
  },
  {
   "cell_type": "markdown",
   "metadata": {
    "id": "1XbTb1lv2UL4"
   },
   "source": [
    "\n",
    "### Step 5. Affichez la liste des colonnes."
   ]
  },
  {
   "cell_type": "code",
   "execution_count": 9,
   "metadata": {
    "id": "Onszm6SM2UL5",
    "outputId": "0726cb8f-2021-4fe6-99ec-56b560f61d8c"
   },
   "outputs": [
    {
     "data": {
      "text/plain": [
       "Index(['order_id', 'quantity', 'item_name', 'choice_description',\n",
       "       'item_price'],\n",
       "      dtype='object')"
      ]
     },
     "execution_count": 9,
     "metadata": {},
     "output_type": "execute_result"
    }
   ],
   "source": [
    "restau.columns"
   ]
  },
  {
   "cell_type": "markdown",
   "metadata": {
    "id": "bi4uRPCV2UL5"
   },
   "source": [
    "### Step 6. Affichez l'ordre d'indexation?"
   ]
  },
  {
   "cell_type": "code",
   "execution_count": 10,
   "metadata": {
    "id": "rTl9fYCQ2UL5",
    "outputId": "642c5441-94f2-4fc9-c301-d7b3acc783af"
   },
   "outputs": [
    {
     "data": {
      "text/plain": [
       "Int64Index([   0,    1,    2,    3,    4,    5,    6,    7,    8,    9,\n",
       "            ...\n",
       "            4612, 4613, 4614, 4615, 4616, 4617, 4618, 4619, 4620, 4621],\n",
       "           dtype='int64', length=4622)"
      ]
     },
     "execution_count": 10,
     "metadata": {},
     "output_type": "execute_result"
    }
   ],
   "source": [
    "restau.index"
   ]
  },
  {
   "cell_type": "markdown",
   "metadata": {
    "id": "0B7QSD4j2UL6"
   },
   "source": [
    "### Step 7 Déterminez le repas le plus commandé et la quantité de commande? "
   ]
  },
  {
   "cell_type": "code",
   "execution_count": 11,
   "metadata": {
    "id": "thCQJQUY2UL6"
   },
   "outputs": [
    {
     "name": "stdout",
     "output_type": "stream",
     "text": [
      "              order_id  quantity\n",
      "item_name                       \n",
      "Chicken Bowl    713926       761\n",
      "Le repas le plus commandé est Chicken Bowl avec une quantité de commande de 761.\n"
     ]
    }
   ],
   "source": [
    "# Regroupez les données suivant la colonne item_name\n",
    "c = restau.groupby('item_name')\n",
    "\n",
    "# Fait la somme de chaque item_name\n",
    "c = c.sum()\n",
    "\n",
    "# Triez les données dans l'ordre décroissant et affichez la première ligne\n",
    "c = c.sort_values('quantity', ascending=False)\n",
    "print(c.head(1))\n",
    "\n",
    "# Affichez le repas le plus commandé et la quantité de commande\n",
    "repas_plus_commande = c.index[0]\n",
    "quantite_commande = c.iloc[0]['quantity']\n",
    "print(f\"Le repas le plus commandé est {repas_plus_commande} avec une quantité de commande de {quantite_commande}.\")"
   ]
  },
  {
   "cell_type": "markdown",
   "metadata": {
    "id": "OcIWDD-m2UL8"
   },
   "source": [
    "### Step 8. Combien de repas ont été commandé au total?"
   ]
  },
  {
   "cell_type": "code",
   "execution_count": 12,
   "metadata": {
    "id": "8Wkv595u2UL8",
    "outputId": "308d9a69-a37e-48d6-f5d6-1a699b36a5d0"
   },
   "outputs": [
    {
     "data": {
      "text/plain": [
       "4972"
      ]
     },
     "execution_count": 12,
     "metadata": {},
     "output_type": "execute_result"
    }
   ],
   "source": [
    "# Calculer le nombre total d'articles commandés\n",
    "total_items_orders = restau['quantity'].sum()\n",
    "\n",
    "# Afficher le résultat\n",
    "total_items_orders"
   ]
  },
  {
   "cell_type": "markdown",
   "metadata": {
    "id": "cS5Pyffv2UL9"
   },
   "source": [
    "### Step 9. Changez le type des données de la colonnes item_price en float"
   ]
  },
  {
   "cell_type": "markdown",
   "metadata": {
    "id": "FP_wmJVr2UL9"
   },
   "source": [
    "#### Step 9.a. déterminer le type de la colonne item_price"
   ]
  },
  {
   "cell_type": "code",
   "execution_count": 13,
   "metadata": {
    "colab": {
     "base_uri": "https://localhost:8080/"
    },
    "id": "_QRlgHpn2UL9",
    "outputId": "f6415eeb-7bec-4f54-ab98-d7a575fe203d"
   },
   "outputs": [
    {
     "data": {
      "text/plain": [
       "dtype('O')"
      ]
     },
     "execution_count": 13,
     "metadata": {},
     "output_type": "execute_result"
    }
   ],
   "source": [
    "# Afficher le type de données de la colonne \"item_price\"\n",
    "restau['item_price'].dtype"
   ]
  },
  {
   "cell_type": "markdown",
   "metadata": {
    "id": "LDpE6oXD2UL-"
   },
   "source": [
    "#### Step 9.b. Créez une fonction lambda pour convertir les données en float"
   ]
  },
  {
   "cell_type": "code",
   "execution_count": 14,
   "metadata": {
    "id": "IXfPIgdH2UL-"
   },
   "outputs": [],
   "source": [
    "# La fonction lambda qui convertit les valeurs de la colonne en nombres flottants\n",
    "sans_dollar = lambda x: float(x[1:-1])\n",
    "\n",
    "# Appliquer la fonction lambda à la colonne \"item_price\"\n",
    "restau.item_price = restau.item_price.apply(sans_dollar)"
   ]
  },
  {
   "cell_type": "markdown",
   "metadata": {
    "id": "7S8MYQGc2UL_"
   },
   "source": [
    "#### Step 9.c. Verifiez à nouveau le type de la colonne item_price"
   ]
  },
  {
   "cell_type": "code",
   "execution_count": 15,
   "metadata": {
    "id": "hoDY_X6N2UL_",
    "outputId": "2fc267f4-93ed-4b84-bc2e-4051d6c94849"
   },
   "outputs": [
    {
     "name": "stdout",
     "output_type": "stream",
     "text": [
      "float64\n"
     ]
    }
   ],
   "source": [
    "# Afficher le type de données de la colonne \"item_price\"\n",
    "print(restau['item_price'].dtype)"
   ]
  },
  {
   "cell_type": "markdown",
   "metadata": {
    "id": "OIpeVSco2UL_"
   },
   "source": [
    "### Step 10. Quel est le revenu total?"
   ]
  },
  {
   "cell_type": "code",
   "execution_count": 16,
   "metadata": {
    "colab": {
     "base_uri": "https://localhost:8080/"
    },
    "id": "99oAMi8v2UL_",
    "outputId": "ff558359-266a-4d48-ad93-cad8411ce0af"
   },
   "outputs": [
    {
     "name": "stdout",
     "output_type": "stream",
     "text": [
      "Revenu total: $39237.02\n"
     ]
    }
   ],
   "source": [
    "# Calculer le revenu total pour toutes les commandes\n",
    "revenue = (restau['quantity']* restau['item_price']).sum()\n",
    "\n",
    "#Afficher le revenu total\n",
    "print('Revenu total: $' + str(np.round(revenue,2)))"
   ]
  },
  {
   "cell_type": "markdown",
   "metadata": {
    "id": "XrPlh1wJ2UMA"
   },
   "source": [
    "### Step 11. Combien de commandes ont été reçues ?"
   ]
  },
  {
   "cell_type": "code",
   "execution_count": 17,
   "metadata": {
    "id": "7hV9oCiD2UMA",
    "outputId": "3448b054-30c3-4e37-aec2-e6bd0def1d0b"
   },
   "outputs": [
    {
     "data": {
      "text/plain": [
       "4622"
      ]
     },
     "execution_count": 17,
     "metadata": {},
     "output_type": "execute_result"
    }
   ],
   "source": [
    "# Déterminer le nombre de commandes reçues\n",
    "orders = restau['order_id'].count()\n",
    "\n",
    "# Afficher le nombre de commandes\n",
    "orders"
   ]
  },
  {
   "cell_type": "markdown",
   "metadata": {
    "id": "KqLS5tAP2UMB"
   },
   "source": [
    "### Step 12. Quelle est la moyenne de revenu par commande?"
   ]
  },
  {
   "cell_type": "code",
   "execution_count": 18,
   "metadata": {
    "colab": {
     "base_uri": "https://localhost:8080/"
    },
    "id": "d5fjfRDr2UMB",
    "outputId": "c28bcf80-9289-42ed-ee6d-17bd89aeaa5a"
   },
   "outputs": [
    {
     "data": {
      "text/plain": [
       "21.394231188658654"
      ]
     },
     "execution_count": 18,
     "metadata": {},
     "output_type": "execute_result"
    }
   ],
   "source": [
    "# Ajouter une colonne \"revenue\" au dataframe\n",
    "restau['revenue'] = restau['quantity'] * restau['item_price']\n",
    "\n",
    "# Regrouper les données par \"order_id\" et sommer les revenus\n",
    "order_grouped = restau.groupby('order_id')['revenue'].sum()\n",
    "\n",
    "# Calculer la moyenne des revenus par commande\n",
    "mean_revenue = order_grouped.mean()\n",
    "\n",
    "# Afficher la moyenne des revenus\n",
    "#print('La moyenne des revenus par commande est de : $' + str(mean_revenue))\n",
    "mean_revenue"
   ]
  },
  {
   "cell_type": "markdown",
   "metadata": {
    "id": "syoRFJqN2UMB"
   },
   "source": [
    "### Step 13. Combien de repas différents sont vendus?"
   ]
  },
  {
   "cell_type": "code",
   "execution_count": 19,
   "metadata": {
    "id": "8GF_ub-x2UMC",
    "outputId": "03aeac64-c9c7-4294-a187-6b3035d15166"
   },
   "outputs": [
    {
     "data": {
      "text/plain": [
       "50"
      ]
     },
     "execution_count": 19,
     "metadata": {},
     "output_type": "execute_result"
    }
   ],
   "source": [
    "# Déterminer le nombre de repas différents vendus\n",
    "num_items = restau['item_name'].nunique()\n",
    "\n",
    "# Afficher le nombre de repas différents vendus\n",
    "#print('Nombre de repas différents vendus: ' + str(num_items))\n",
    "num_items"
   ]
  },
  {
   "cell_type": "code",
   "execution_count": null,
   "metadata": {
    "id": "WW2FZ6bBPdCZ"
   },
   "outputs": [],
   "source": []
  }
 ],
 "metadata": {
  "anaconda-cloud": {},
  "colab": {
   "provenance": []
  },
  "kernelspec": {
   "display_name": "Python 3 (ipykernel)",
   "language": "python",
   "name": "python3"
  },
  "language_info": {
   "codemirror_mode": {
    "name": "ipython",
    "version": 3
   },
   "file_extension": ".py",
   "mimetype": "text/x-python",
   "name": "python",
   "nbconvert_exporter": "python",
   "pygments_lexer": "ipython3",
   "version": "3.9.12"
  }
 },
 "nbformat": 4,
 "nbformat_minor": 1
}
